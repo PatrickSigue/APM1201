{
  "nbformat": 4,
  "nbformat_minor": 0,
  "metadata": {
    "colab": {
      "provenance": [],
      "authorship_tag": "ABX9TyO22zYfufKMbPpS22hZvTNz",
      "include_colab_link": true
    },
    "kernelspec": {
      "name": "python3",
      "display_name": "Python 3"
    },
    "language_info": {
      "name": "python"
    }
  },
  "cells": [
    {
      "cell_type": "markdown",
      "metadata": {
        "id": "view-in-github",
        "colab_type": "text"
      },
      "source": [
        "<a href=\"https://colab.research.google.com/github/PatrickSigue/APM1201/blob/main/N_ElementSequence.ipynb\" target=\"_parent\"><img src=\"https://colab.research.google.com/assets/colab-badge.svg\" alt=\"Open In Colab\"/></a>"
      ]
    },
    {
      "cell_type": "markdown",
      "source": [
        "Suppose you are given an n-element sequence, S, containing distinct integers that are listed in increasing order. Given a number k, describe a recursive algorithm to find two integers in S that sum to k, if such a pair exists. What is the running time of your algorithm?"
      ],
      "metadata": {
        "id": "4dlPj6aNI5b_"
      }
    },
    {
      "cell_type": "code",
      "source": [
        "import time as t\n",
        "import random as r\n",
        "\n",
        "def find_addends(S, k, i=0):\n",
        "  if i >= len(S):\n",
        "    return \"None found\"\n",
        "  for j in range(i + 1, len(S)):\n",
        "    if S[i] + S[j] == k:\n",
        "      return S[i], S[j]\n",
        "  return find_addends(S, k, i + 1)\n",
        "\n",
        "n = int(input(\"Enter the number of elements: \")) #1000 recursion limit of g colab\n",
        "k = int(input(\"Enter the number to find the addends: \"))\n",
        "S = r.sample(range(1, 5000), n)\n",
        "S.sort()\n",
        "\n",
        "start = t.time_ns()\n",
        "print(find_addends(S, k))\n",
        "end = t.time_ns()\n",
        "print(\"Time taken: \", end - start, 'ns')"
      ],
      "metadata": {
        "colab": {
          "base_uri": "https://localhost:8080/"
        },
        "id": "rXRTP7JrI9lN",
        "outputId": "8de59036-5f7b-406c-fb9d-f4603bd7de96"
      },
      "execution_count": 27,
      "outputs": [
        {
          "output_type": "stream",
          "name": "stdout",
          "text": [
            "Enter the number of elements: 1000\n",
            "Enter the number to find the addends: 467\n",
            "(61, 406)\n",
            "Time taken:  2552362 ns\n"
          ]
        }
      ]
    }
  ]
}