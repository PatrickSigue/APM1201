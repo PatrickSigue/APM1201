{
  "nbformat": 4,
  "nbformat_minor": 0,
  "metadata": {
    "colab": {
      "provenance": [],
      "authorship_tag": "ABX9TyMZ8movIUzt8flhFDE2iPxH",
      "include_colab_link": true
    },
    "kernelspec": {
      "name": "python3",
      "display_name": "Python 3"
    },
    "language_info": {
      "name": "python"
    }
  },
  "cells": [
    {
      "cell_type": "markdown",
      "metadata": {
        "id": "view-in-github",
        "colab_type": "text"
      },
      "source": [
        "<a href=\"https://colab.research.google.com/github/PatrickSigue/APM1201/blob/main/Music_Service.ipynb\" target=\"_parent\"><img src=\"https://colab.research.google.com/assets/colab-badge.svg\" alt=\"Open In Colab\"/></a>"
      ]
    },
    {
      "cell_type": "markdown",
      "source": [
        "Write a Python program that simulates a music streaming service. Your system should support the following functionalities:\n",
        "\n",
        "Users can \"subscribe\" to different music genres.\n",
        "Users can view their subscribed genres and discover new music.\n",
        "Users can play a list of songs from their subscribed genres.\n",
        "To implement this system, you will need to gather songs from various genres that are available for free or in the public domain on the Internet. Each genre should have a collection of songs that users can browse and play.\n",
        "\n",
        "Requirements:\n",
        "Implement a MusicStreamingService class with methods for subscribing to genres, viewing subscriptions, and playing songs.\n",
        "Create a Song class that includes attributes like title, artist, and duration.\n",
        "Ensure that users can browse available genres and the songs within each genre before making a subscription.\n",
        "Use an external source (like a public domain music database or website) to populate your list of available songs for users to explore."
      ],
      "metadata": {
        "id": "zX24t88hZJyB"
      }
    },
    {
      "cell_type": "code",
      "execution_count": 7,
      "metadata": {
        "id": "HRPQR0-_WxSX"
      },
      "outputs": [],
      "source": [
        "class Song:\n",
        "    def __init__(self, title, artist):\n",
        "        self.title = title\n",
        "        self.artist = artist\n",
        "\n",
        "    def __str__(self):\n",
        "        return f\"{self.title} by {self.artist}\"\n",
        "\n",
        "\n",
        "class MusicStreamingService:\n",
        "    def __init__(self):\n",
        "        self.genres = {\n",
        "            \"Rock\": [],\n",
        "            \"Hip-Hop\": [],\n",
        "            \"Classical\": [],\n",
        "        }\n",
        "        self.user_subscriptions = {}\n",
        "\n",
        "    def add_songs_to_genres(self, songs):\n",
        "        for song in songs:\n",
        "            self.genres[song[\"genre\"]].append(Song(song[\"title\"], song[\"artist\"]))\n",
        "\n",
        "    def subscribe_to_genre(self, user, genre):\n",
        "        if user not in self.user_subscriptions:\n",
        "            self.user_subscriptions[user] = []\n",
        "        if genre not in self.user_subscriptions[user]:\n",
        "            self.user_subscriptions[user].append(genre)\n",
        "\n",
        "    def view_subscriptions(self, user):\n",
        "        return self.user_subscriptions.get(user, [])\n",
        "\n",
        "    def play_songs(self, user):\n",
        "      songs_to_play = []\n",
        "      for genre, song_list in self.genres.items():\n",
        "          for song in song_list:\n",
        "              songs_to_play.append(f\"{song.title} by {song.artist}\")\n",
        "      return songs_to_play\n",
        "\n",
        "    def view_songs_by_genre(self):\n",
        "        for genre, songs in self.genres.items():\n",
        "            print(f\"**{genre}**\")\n",
        "            for i, song in enumerate(songs, start=1):\n",
        "                print(f\"{i}. {song}\")\n",
        "            print()"
      ]
    },
    {
      "cell_type": "code",
      "source": [
        "music_service = MusicStreamingService()\n",
        "\n",
        "songs = [\n",
        "    {\"genre\": \"Rock\", \"title\": \"Pour Some Sugar\", \"artist\": \"Def Leppard\"},\n",
        "    {\"genre\": \"Rock\", \"title\": \"Slow Ride\", \"artist\": \"Foghat\"},\n",
        "    {\"genre\": \"Rock\", \"title\": \"Everlong\", \"artist\": \"Foo Fighters\"},\n",
        "    {\"genre\": \"Rock\", \"title\": \"Mr. Brightside\", \"artist\": \"The Killers\"},\n",
        "    {\"genre\": \"Rock\", \"title\": \"All the Small Things\", \"artist\": \"Blink 182\"},\n",
        "    {\"genre\": \"Classical\", \"title\": \"Lacrimosa\", \"artist\": \"Mozart\"},\n",
        "    {\"genre\": \"Classical\", \"title\": \"Le Sacre du Printemps\", \"artist\": \"Stravinsky\"},\n",
        "    {\"genre\": \"Classical\", \"title\": \"Die Walkure\", \"artist\": \"Wagner\"},\n",
        "    {\"genre\": \"Classical\", \"title\": \"Pelleas et Melisande\", \"artist\": \"Debussy\"},\n",
        "    {\"genre\": \"Classical\", \"title\": \"Winter\", \"artist\": \"Vivaldi\"},\n",
        "    {\"genre\": \"Hip-Hop\", \"title\": \"Still DRE\", \"artist\": \"Dr. Dre\"},\n",
        "    {\"genre\": \"Hip-Hop\", \"title\": \"This is America\", \"artist\": \"Childish Gambino\"},\n",
        "    {\"genre\": \"Hip-Hop\", \"title\": \"Ice Ice Baby\", \"artist\": \"Vanilla Ice\"},\n",
        "    {\"genre\": \"Hip-Hop\", \"title\": \"Ms. Jackson\", \"artist\": \"Outkast\"},\n",
        "    {\"genre\": \"Hip-Hop\", \"title\": \"Lose Yourself\", \"artist\": \"Eminem\"}\n",
        "]\n",
        "\n",
        "music_service.add_songs_to_genres(songs)\n",
        "\n",
        "user = \"Jose\"\n",
        "genre = \"Rock\"\n",
        "\n",
        "music_service.subscribe_to_genre(user, genre)\n",
        "\n",
        "print(music_service.view_subscriptions(user))\n",
        "print(music_service.play_songs(user))\n",
        "print(music_service.view_songs_by_genre())"
      ],
      "metadata": {
        "id": "PxUKhG2yespL",
        "outputId": "26bcdacc-ca09-4c40-ae4a-caf1ecf460bd",
        "colab": {
          "base_uri": "https://localhost:8080/"
        }
      },
      "execution_count": 10,
      "outputs": [
        {
          "output_type": "stream",
          "name": "stdout",
          "text": [
            "['Rock']\n",
            "['Pour Some Sugar by Def Leppard', 'Slow Ride by Foghat', 'Everlong by Foo Fighters', 'Mr. Brightside by The Killers', 'All the Small Things by Blink 182', 'Still DRE by Dr. Dre', 'This is America by Childish Gambino', 'Ice Ice Baby by Vanilla Ice', 'Ms. Jackson by Outkast', 'Lose Yourself by Eminem', 'Lacrimosa by Mozart', 'Le Sacre du Printemps by Stravinsky', 'Die Walkure by Wagner', 'Pelleas et Melisande by Debussy', 'Winter by Vivaldi']\n",
            "**Rock**\n",
            "1. Pour Some Sugar by Def Leppard\n",
            "2. Slow Ride by Foghat\n",
            "3. Everlong by Foo Fighters\n",
            "4. Mr. Brightside by The Killers\n",
            "5. All the Small Things by Blink 182\n",
            "\n",
            "**Hip-Hop**\n",
            "1. Still DRE by Dr. Dre\n",
            "2. This is America by Childish Gambino\n",
            "3. Ice Ice Baby by Vanilla Ice\n",
            "4. Ms. Jackson by Outkast\n",
            "5. Lose Yourself by Eminem\n",
            "\n",
            "**Classical**\n",
            "1. Lacrimosa by Mozart\n",
            "2. Le Sacre du Printemps by Stravinsky\n",
            "3. Die Walkure by Wagner\n",
            "4. Pelleas et Melisande by Debussy\n",
            "5. Winter by Vivaldi\n",
            "\n",
            "None\n"
          ]
        }
      ]
    }
  ]
}