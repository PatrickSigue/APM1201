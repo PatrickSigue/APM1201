{
  "nbformat": 4,
  "nbformat_minor": 0,
  "metadata": {
    "colab": {
      "provenance": [],
      "authorship_tag": "ABX9TyN+4M0sPIRF6CC0oNOHvasU",
      "include_colab_link": true
    },
    "kernelspec": {
      "name": "python3",
      "display_name": "Python 3"
    },
    "language_info": {
      "name": "python"
    }
  },
  "cells": [
    {
      "cell_type": "markdown",
      "metadata": {
        "id": "view-in-github",
        "colab_type": "text"
      },
      "source": [
        "<a href=\"https://colab.research.google.com/github/PatrickSigue/APM1201/blob/main/Handheld_Calculator.ipynb\" target=\"_parent\"><img src=\"https://colab.research.google.com/assets/colab-badge.svg\" alt=\"Open In Colab\"/></a>"
      ]
    },
    {
      "cell_type": "markdown",
      "source": [
        "Write a Python program that simulates a handheld calculator. Your program should process input from the Python console representing buttons that are “pushed,” and then output the contents of the screen after each operation is performed. Minimally, your calculator should be able to process the basic arithmetic operations and a reset/clear operation."
      ],
      "metadata": {
        "id": "OaLSNWotIJrA"
      }
    },
    {
      "cell_type": "code",
      "source": [
        "+def calcu(but, screen):\n",
        "    if but.lower() == 'c':\n",
        "        return \"0\"\n",
        "    elif but.lower() == 'o':\n",
        "        return None\n",
        "    elif but.lower() == 'b':\n",
        "        if len(screen) > 1:\n",
        "            return screen[:-1]\n",
        "        else:\n",
        "            return \"0\"\n",
        "    elif but == '=':\n",
        "        try:\n",
        "            return str(eval(screen))\n",
        "        except ZeroDivisionError:\n",
        "            return \"Error\"\n",
        "        except Exception as e:\n",
        "            return \"Error\"\n",
        "    elif but in \"+-*/\":\n",
        "        if screen != \"0\":\n",
        "            return screen + but\n",
        "        else:\n",
        "            return \"0\"\n",
        "    else:\n",
        "        if screen == \"0\":\n",
        "            return but\n",
        "        else:\n",
        "            return screen + but\n",
        "\n",
        "screen = \"0\"\n",
        "while True:\n",
        "    q = input(\"Enter a command (C: clear, O: off, B: backspace, =: evaluate): \")\n",
        "    result = calcu(q, screen)\n",
        "    if result is None:\n",
        "        print(\"Calculator turned off.\")\n",
        "        break\n",
        "    elif result is not None:\n",
        "        screen = result\n",
        "        print(screen)"
      ],
      "metadata": {
        "colab": {
          "base_uri": "https://localhost:8080/"
        },
        "id": "go4cuCmND3vl",
        "outputId": "1b604389-e9d6-4f83-a1a4-bb62c73c4116"
      },
      "execution_count": 27,
      "outputs": [
        {
          "output_type": "stream",
          "name": "stdout",
          "text": [
            "Enter a command (C: clear, O: off, B: backspace, =: evaluate): 56\n",
            "56\n",
            "Enter a command (C: clear, O: off, B: backspace, =: evaluate): +78\n",
            "56+78\n",
            "Enter a command (C: clear, O: off, B: backspace, =: evaluate): /90\n",
            "56+78/90\n",
            "Enter a command (C: clear, O: off, B: backspace, =: evaluate): b\n",
            "56+78/9\n",
            "Enter a command (C: clear, O: off, B: backspace, =: evaluate): b\n",
            "56+78/\n",
            "Enter a command (C: clear, O: off, B: backspace, =: evaluate): c\n",
            "0\n",
            "Enter a command (C: clear, O: off, B: backspace, =: evaluate): 45\n",
            "45\n",
            "Enter a command (C: clear, O: off, B: backspace, =: evaluate): *\n",
            "45*\n",
            "Enter a command (C: clear, O: off, B: backspace, =: evaluate): 5\n",
            "45*5\n",
            "Enter a command (C: clear, O: off, B: backspace, =: evaluate): =\n",
            "225\n",
            "Enter a command (C: clear, O: off, B: backspace, =: evaluate): c\n",
            "0\n",
            "Enter a command (C: clear, O: off, B: backspace, =: evaluate): o\n",
            "Calculator turned off.\n"
          ]
        }
      ]
    }
  ]
}